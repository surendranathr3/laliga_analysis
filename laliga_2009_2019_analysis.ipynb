{
 "cells": [
  {
   "cell_type": "code",
   "execution_count": 1,
   "metadata": {},
   "outputs": [],
   "source": [
    "from glob import glob\n",
    "import pandas as pd\n",
    "import matplotlib.pyplot as plt"
   ]
  },
  {
   "cell_type": "code",
   "execution_count": 2,
   "metadata": {},
   "outputs": [],
   "source": [
    "#Collect data from excel files containing laliga stats of 10 years [2009-2019]\n",
    "\n",
    "folder = r'C:\\Users\\lenovo\\Suri\\python_projects\\football\\laliga_10years'\n",
    "all_files = glob(r'C:\\Users\\lenovo\\Suri\\python_projects\\football\\laliga_10years\\*.csv')\n",
    "li = []\n",
    "for file in all_files:\n",
    "    df = pd.read_csv(file,index_col=None)\n",
    "    li.append(df)\n",
    "laliga = pd.concat(li,axis=0)                                          #Combine data of 10 excel files into a data frame\n",
    "req_columns = ['Date', 'HomeTeam', 'AwayTeam', 'FTHG', 'FTAG', 'FTR',\n",
    "               'HTHG','HTAG', 'HTR', 'HS', 'AS', 'HST', 'AST', 'HF',\n",
    "               'AF', 'HC', 'AC', 'HY','AY', 'HR', 'AR']                # Keep only columns related to match stats\n",
    "laliga = laliga[req_columns]"
   ]
  },
  {
   "cell_type": "code",
   "execution_count": 3,
   "metadata": {},
   "outputs": [
    {
     "name": "stderr",
     "output_type": "stream",
     "text": [
      "c:\\python38\\lib\\site-packages\\pandas\\core\\frame.py:4125: SettingWithCopyWarning: \n",
      "A value is trying to be set on a copy of a slice from a DataFrame\n",
      "\n",
      "See the caveats in the documentation: https://pandas.pydata.org/pandas-docs/stable/user_guide/indexing.html#returning-a-view-versus-a-copy\n",
      "  return super().rename(\n"
     ]
    }
   ],
   "source": [
    "#Create a dataframe containing only Barcelona data of the last 10 years\n",
    "\n",
    "barca_home = laliga[laliga['HomeTeam'] == 'Barcelona']\n",
    "barca_away = laliga[laliga['AwayTeam'] == 'Barcelona']\n",
    "\n",
    "barca_home.rename(columns={'HomeTeam':'H/A','AwayTeam':'Opp','FTHG':'FTG','FTAG':'FTOG',\n",
    "                           'HTHG':'HTG','HTAG':'HTOG','HS':'S','AS':'OS',\n",
    "                           'HST':'ST','AST':'OST','HF':'F','AF':'OF',\n",
    "                           'HC':'C','AC':'OC','HY':'Y','AY':'OY','HR':'R',\n",
    "                           'AR':'OR'}, inplace = True)\n",
    "barca_away.rename(columns={'HomeTeam':'Opp','AwayTeam':'H/A','FTHG':'FTOG','FTAG':'FTG',\n",
    "                           'HTHG':'HTOG','HTAG':'HTG','HS':'OS','AS':'S',\n",
    "                           'HST':'OST','AST':'ST','HF':'OF','AF':'F',\n",
    "                           'HC':'OC','AC':'C','HY':'OY','AY':'Y','HR':'OR',\n",
    "                           'AR':'R'}, inplace = True)\n",
    "\n",
    "barca_home = barca_home.replace({'H/A':{'Barcelona':'H'}})\n",
    "barca_home = barca_home.replace({'FTR':{'H':'W','A':'L'}})\n",
    "barca_home = barca_home.replace({'HTR':{'H':'W','A':'L'}})\n",
    "\n",
    "barca_away = barca_away.replace({'H/A':{'Barcelona':'A'}})\n",
    "barca_away = barca_away.replace({'FTR':{'H':'L','A':'W'}})\n",
    "barca_away = barca_away.replace({'HTR':{'H':'L','A':'W'}})\n",
    "\n",
    "barca = pd.concat([barca_home,barca_away])"
   ]
  },
  {
   "cell_type": "code",
   "execution_count": 7,
   "metadata": {},
   "outputs": [
    {
     "data": {
      "text/plain": [
       "<matplotlib.axes._subplots.AxesSubplot at 0x1b4a742d8b0>"
      ]
     },
     "execution_count": 7,
     "metadata": {},
     "output_type": "execute_result"
    },
    {
     "data": {
      "image/png": "[encoded data removed]",
      "text/plain": [
       "<Figure size 360x360 with 1 Axes>"
      ]
     },
     "metadata": {},
     "output_type": "display_data"
    }
   ],
   "source": [
    "plt.figure(figsize=(5,5))\n",
    "barca['FTR'].value_counts().sort_index().plot.pie(title='Barca match results',figsize=(5, 5),autopct='%.2f')"
   ]
  },
  {
   "cell_type": "code",
   "execution_count": 5,
   "metadata": {},
   "outputs": [
    {
     "name": "stderr",
     "output_type": "stream",
     "text": [
      "c:\\python38\\lib\\site-packages\\pandas\\core\\frame.py:4125: SettingWithCopyWarning: \n",
      "A value is trying to be set on a copy of a slice from a DataFrame\n",
      "\n",
      "See the caveats in the documentation: https://pandas.pydata.org/pandas-docs/stable/user_guide/indexing.html#returning-a-view-versus-a-copy\n",
      "  return super().rename(\n"
     ]
    }
   ],
   "source": [
    "#Create a dataframe containing only Real Madrid data of the last 10 years\n",
    "\n",
    "rm_home = laliga[laliga['HomeTeam'] == 'Real Madrid']\n",
    "rm_away = laliga[laliga['AwayTeam'] == 'Real Madrid']\n",
    "\n",
    "rm_home.rename(columns={'HomeTeam':'H/A','AwayTeam':'Opp','FTHG':'FTG','FTAG':'FTOG',\n",
    "                           'HTHG':'HTG','HTAG':'HTOG','HS':'S','AS':'OS',\n",
    "                           'HST':'ST','AST':'OST','HF':'F','AF':'OF',\n",
    "                           'HC':'C','AC':'OC','HY':'Y','AY':'OY','HR':'R',\n",
    "                           'AR':'OR'}, inplace = True)\n",
    "rm_away.rename(columns={'HomeTeam':'Opp','AwayTeam':'H/A','FTHG':'FTOG','FTAG':'FTG',\n",
    "                           'HTHG':'HTOG','HTAG':'HTG','HS':'OS','AS':'S',\n",
    "                           'HST':'OST','AST':'ST','HF':'OF','AF':'F',\n",
    "                           'HC':'OC','AC':'C','HY':'OY','AY':'Y','HR':'OR',\n",
    "                           'AR':'R'}, inplace = True)\n",
    "\n",
    "rm_home = rm_home.replace({'H/A':{'RealMadrid':'H'}})\n",
    "rm_home = rm_home.replace({'FTR':{'H':'W','A':'L'}})\n",
    "rm_home = rm_home.replace({'HTR':{'H':'W','A':'L'}})\n",
    "\n",
    "rm_away = rm_away.replace({'H/A':{'Real_Madrid':'A'}})\n",
    "rm_away = rm_away.replace({'FTR':{'H':'L','A':'W'}})\n",
    "rm_away = rm_away.replace({'HTR':{'H':'L','A':'W'}})\n",
    "\n",
    "rm = pd.concat([rm_home,rm_away])"
   ]
  },
  {
   "cell_type": "code",
   "execution_count": 15,
   "metadata": {},
   "outputs": [
    {
     "data": {
      "text/plain": [
       "<matplotlib.axes._subplots.AxesSubplot at 0x1b4a87c05b0>"
      ]
     },
     "execution_count": 15,
     "metadata": {},
     "output_type": "execute_result"
    },
    {
     "data": {
      "image/png": "[encoded data removed]",
      "text/plain": [
       "<Figure size 360x360 with 1 Axes>"
      ]
     },
     "metadata": {},
     "output_type": "display_data"
    }
   ],
   "source": [
    "plt.figure(figsize=(5,5))\n",
    "rm['FTOG'].value_counts().sort_index().plot.pie(title='Real Madrid match results',figsize=(5, 5),autopct='%.2f')"
   ]
  },
  {
   "cell_type": "code",
   "execution_count": 16,
   "metadata": {},
   "outputs": [
    {
     "data": {
      "text/html": [
       "<div>\n",
       "<style scoped>\n",
       "    .dataframe tbody tr th:only-of-type {\n",
       "        vertical-align: middle;\n",
       "    }\n",
       "\n",
       "    .dataframe tbody tr th {\n",
       "        vertical-align: top;\n",
       "    }\n",
       "\n",
       "    .dataframe thead th {\n",
       "        text-align: right;\n",
       "    }\n",
       "</style>\n",
       "<table border=\"1\" class=\"dataframe\">\n",
       "  <thead>\n",
       "    <tr style=\"text-align: right;\">\n",
       "      <th></th>\n",
       "      <th>FTG</th>\n",
       "      <th>FTOG</th>\n",
       "      <th>HTG</th>\n",
       "      <th>HTOG</th>\n",
       "      <th>S</th>\n",
       "      <th>OS</th>\n",
       "      <th>ST</th>\n",
       "      <th>OST</th>\n",
       "      <th>F</th>\n",
       "      <th>OF</th>\n",
       "      <th>C</th>\n",
       "      <th>OC</th>\n",
       "      <th>Y</th>\n",
       "      <th>OY</th>\n",
       "      <th>R</th>\n",
       "      <th>OR</th>\n",
       "    </tr>\n",
       "  </thead>\n",
       "  <tbody>\n",
       "    <tr>\n",
       "      <th>count</th>\n",
       "      <td>380.000000</td>\n",
       "      <td>380.000000</td>\n",
       "      <td>380.000000</td>\n",
       "      <td>380.000000</td>\n",
       "      <td>380.000000</td>\n",
       "      <td>380.000000</td>\n",
       "      <td>380.000000</td>\n",
       "      <td>380.000000</td>\n",
       "      <td>380.000000</td>\n",
       "      <td>380.000000</td>\n",
       "      <td>380.000000</td>\n",
       "      <td>380.000000</td>\n",
       "      <td>380.000000</td>\n",
       "      <td>380.000000</td>\n",
       "      <td>380.000000</td>\n",
       "      <td>380.000000</td>\n",
       "    </tr>\n",
       "    <tr>\n",
       "      <th>mean</th>\n",
       "      <td>2.692105</td>\n",
       "      <td>1.007895</td>\n",
       "      <td>1.236842</td>\n",
       "      <td>0.447368</td>\n",
       "      <td>18.581579</td>\n",
       "      <td>10.707895</td>\n",
       "      <td>7.515789</td>\n",
       "      <td>3.600000</td>\n",
       "      <td>12.371053</td>\n",
       "      <td>14.752632</td>\n",
       "      <td>6.463158</td>\n",
       "      <td>4.381579</td>\n",
       "      <td>2.115789</td>\n",
       "      <td>2.802632</td>\n",
       "      <td>0.121053</td>\n",
       "      <td>0.144737</td>\n",
       "    </tr>\n",
       "    <tr>\n",
       "      <th>std</th>\n",
       "      <td>1.786032</td>\n",
       "      <td>0.967788</td>\n",
       "      <td>1.123841</td>\n",
       "      <td>0.641460</td>\n",
       "      <td>5.920420</td>\n",
       "      <td>4.344218</td>\n",
       "      <td>3.015748</td>\n",
       "      <td>2.122377</td>\n",
       "      <td>4.124283</td>\n",
       "      <td>4.553623</td>\n",
       "      <td>3.060724</td>\n",
       "      <td>2.435268</td>\n",
       "      <td>1.392503</td>\n",
       "      <td>1.515267</td>\n",
       "      <td>0.334599</td>\n",
       "      <td>0.387943</td>\n",
       "    </tr>\n",
       "    <tr>\n",
       "      <th>min</th>\n",
       "      <td>0.000000</td>\n",
       "      <td>0.000000</td>\n",
       "      <td>0.000000</td>\n",
       "      <td>0.000000</td>\n",
       "      <td>4.000000</td>\n",
       "      <td>2.000000</td>\n",
       "      <td>1.000000</td>\n",
       "      <td>0.000000</td>\n",
       "      <td>4.000000</td>\n",
       "      <td>1.000000</td>\n",
       "      <td>0.000000</td>\n",
       "      <td>0.000000</td>\n",
       "      <td>0.000000</td>\n",
       "      <td>0.000000</td>\n",
       "      <td>0.000000</td>\n",
       "      <td>0.000000</td>\n",
       "    </tr>\n",
       "    <tr>\n",
       "      <th>25%</th>\n",
       "      <td>1.000000</td>\n",
       "      <td>0.000000</td>\n",
       "      <td>0.000000</td>\n",
       "      <td>0.000000</td>\n",
       "      <td>14.000000</td>\n",
       "      <td>8.000000</td>\n",
       "      <td>5.750000</td>\n",
       "      <td>2.000000</td>\n",
       "      <td>9.000000</td>\n",
       "      <td>11.000000</td>\n",
       "      <td>4.000000</td>\n",
       "      <td>3.000000</td>\n",
       "      <td>1.000000</td>\n",
       "      <td>2.000000</td>\n",
       "      <td>0.000000</td>\n",
       "      <td>0.000000</td>\n",
       "    </tr>\n",
       "    <tr>\n",
       "      <th>50%</th>\n",
       "      <td>3.000000</td>\n",
       "      <td>1.000000</td>\n",
       "      <td>1.000000</td>\n",
       "      <td>0.000000</td>\n",
       "      <td>18.000000</td>\n",
       "      <td>10.500000</td>\n",
       "      <td>7.000000</td>\n",
       "      <td>3.000000</td>\n",
       "      <td>12.000000</td>\n",
       "      <td>14.000000</td>\n",
       "      <td>6.000000</td>\n",
       "      <td>4.000000</td>\n",
       "      <td>2.000000</td>\n",
       "      <td>3.000000</td>\n",
       "      <td>0.000000</td>\n",
       "      <td>0.000000</td>\n",
       "    </tr>\n",
       "    <tr>\n",
       "      <th>75%</th>\n",
       "      <td>4.000000</td>\n",
       "      <td>2.000000</td>\n",
       "      <td>2.000000</td>\n",
       "      <td>1.000000</td>\n",
       "      <td>22.000000</td>\n",
       "      <td>13.000000</td>\n",
       "      <td>10.000000</td>\n",
       "      <td>5.000000</td>\n",
       "      <td>15.000000</td>\n",
       "      <td>18.000000</td>\n",
       "      <td>8.000000</td>\n",
       "      <td>6.000000</td>\n",
       "      <td>3.000000</td>\n",
       "      <td>4.000000</td>\n",
       "      <td>0.000000</td>\n",
       "      <td>0.000000</td>\n",
       "    </tr>\n",
       "    <tr>\n",
       "      <th>max</th>\n",
       "      <td>10.000000</td>\n",
       "      <td>5.000000</td>\n",
       "      <td>5.000000</td>\n",
       "      <td>3.000000</td>\n",
       "      <td>39.000000</td>\n",
       "      <td>27.000000</td>\n",
       "      <td>18.000000</td>\n",
       "      <td>13.000000</td>\n",
       "      <td>30.000000</td>\n",
       "      <td>27.000000</td>\n",
       "      <td>17.000000</td>\n",
       "      <td>14.000000</td>\n",
       "      <td>7.000000</td>\n",
       "      <td>8.000000</td>\n",
       "      <td>2.000000</td>\n",
       "      <td>2.000000</td>\n",
       "    </tr>\n",
       "  </tbody>\n",
       "</table>\n",
       "</div>"
      ],
      "text/plain": [
       "              FTG        FTOG         HTG        HTOG           S          OS  \\\n",
       "count  380.000000  380.000000  380.000000  380.000000  380.000000  380.000000   \n",
       "mean     2.692105    1.007895    1.236842    0.447368   18.581579   10.707895   \n",
       "std      1.786032    0.967788    1.123841    0.641460    5.920420    4.344218   \n",
       "min      0.000000    0.000000    0.000000    0.000000    4.000000    2.000000   \n",
       "25%      1.000000    0.000000    0.000000    0.000000   14.000000    8.000000   \n",
       "50%      3.000000    1.000000    1.000000    0.000000   18.000000   10.500000   \n",
       "75%      4.000000    2.000000    2.000000    1.000000   22.000000   13.000000   \n",
       "max     10.000000    5.000000    5.000000    3.000000   39.000000   27.000000   \n",
       "\n",
       "               ST         OST           F          OF           C          OC  \\\n",
       "count  380.000000  380.000000  380.000000  380.000000  380.000000  380.000000   \n",
       "mean     7.515789    3.600000   12.371053   14.752632    6.463158    4.381579   \n",
       "std      3.015748    2.122377    4.124283    4.553623    3.060724    2.435268   \n",
       "min      1.000000    0.000000    4.000000    1.000000    0.000000    0.000000   \n",
       "25%      5.750000    2.000000    9.000000   11.000000    4.000000    3.000000   \n",
       "50%      7.000000    3.000000   12.000000   14.000000    6.000000    4.000000   \n",
       "75%     10.000000    5.000000   15.000000   18.000000    8.000000    6.000000   \n",
       "max     18.000000   13.000000   30.000000   27.000000   17.000000   14.000000   \n",
       "\n",
       "                Y          OY           R          OR  \n",
       "count  380.000000  380.000000  380.000000  380.000000  \n",
       "mean     2.115789    2.802632    0.121053    0.144737  \n",
       "std      1.392503    1.515267    0.334599    0.387943  \n",
       "min      0.000000    0.000000    0.000000    0.000000  \n",
       "25%      1.000000    2.000000    0.000000    0.000000  \n",
       "50%      2.000000    3.000000    0.000000    0.000000  \n",
       "75%      3.000000    4.000000    0.000000    0.000000  \n",
       "max      7.000000    8.000000    2.000000    2.000000  "
      ]
     },
     "execution_count": 16,
     "metadata": {},
     "output_type": "execute_result"
    }
   ],
   "source": [
    "rm.describe()"
   ]
  }
 ],
 "metadata": {
  "kernelspec": {
   "display_name": "Python 3",
   "language": "python",
   "name": "python3"
  },
  "language_info": {
   "codemirror_mode": {
    "name": "ipython",
    "version": 3
   },
   "file_extension": ".py",
   "mimetype": "text/x-python",
   "name": "python",
   "nbconvert_exporter": "python",
   "pygments_lexer": "ipython3",
   "version": "3.8.3"
  }
 },
 "nbformat": 4,
 "nbformat_minor": 4
}
